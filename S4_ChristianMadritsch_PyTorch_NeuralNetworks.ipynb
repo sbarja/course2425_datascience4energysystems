{
 "cells": [
  {
   "cell_type": "code",
   "execution_count": null,
   "id": "c0563e0c-35a9-40ea-b8fb-827f7852eba1",
   "metadata": {},
   "outputs": [],
   "source": [
    "import matplotlib.pyplot as plt\n",
    "plt.plot([1, 2, 3, 4, 5])"
   ]
  },
  {
   "cell_type": "code",
   "execution_count": null,
   "id": "e1b9b1ad",
   "metadata": {},
   "outputs": [],
   "source": [
    "# if torch and torchvision are not installed, execute the following lines:\n",
    "\n",
    "# !pip install torch\n",
    "# !pip install torchvision"
   ]
  },
  {
   "cell_type": "code",
   "execution_count": null,
   "id": "c226f524-690d-4be8-8e12-fa174dd3f850",
   "metadata": {},
   "outputs": [],
   "source": [
    "import torch\n",
    "import torch.nn as nn\n",
    "import torch.optim as optim\n",
    "import torchvision\n",
    "from torchvision import datasets, transforms\n",
    "from torch.utils.data import DataLoader\n",
    "import matplotlib.pyplot as plt"
   ]
  },
  {
   "cell_type": "code",
   "execution_count": null,
   "id": "90770beb-503c-4a72-bf33-86db22a23586",
   "metadata": {},
   "outputs": [],
   "source": [
    "# -------------------- Part 1: Introduction to Machine Learning and Neural Networks --------------------\n",
    "\n",
    "# Part 1.2: Loading the MNIST Dataset\n",
    "# Apply transformations to convert images to tensors and normalize them\n",
    "# Pipeline of transformations, first to tensor (range 0 to +1), than normalize (-1 to +1)\n",
    "transform = transforms.Compose([transforms.ToTensor(), transforms.Normalize((0.5,), (0.5,))])"
   ]
  },
  {
   "cell_type": "code",
   "execution_count": null,
   "id": "bc262721-c285-414c-8625-90497bdec998",
   "metadata": {},
   "outputs": [],
   "source": [
    "# Load the MNIST dataset for training and testing\n",
    "train_data = datasets.MNIST(root='data', train=True, download=True, transform=transform)\n",
    "test_data = datasets.MNIST(root='data', train=False, download=True, transform=transform)"
   ]
  },
  {
   "cell_type": "code",
   "execution_count": null,
   "id": "d5cf34d5-0d67-4954-bb37-6a4cce37ea8c",
   "metadata": {},
   "outputs": [],
   "source": [
    "# Part 1.2: Visualize a sample image from MNIST\n",
    "image, label = train_data[0]\n",
    "plt.imshow(image.squeeze(), cmap=\"gray\")\n",
    "plt.title(f'Label: {label}')\n",
    "plt.show()"
   ]
  },
  {
   "cell_type": "code",
   "execution_count": null,
   "id": "e3a8c171-2b07-4c66-b65c-bb82b23def33",
   "metadata": {},
   "outputs": [],
   "source": [
    "# -------------------- Part 2: Setting Up the Environment & Loading MNIST --------------------\n",
    "\n",
    "# Part 2.2: Use DataLoader to load data in mini-batches\n",
    "train_loader = DataLoader(train_data, batch_size=32, shuffle=True)\n",
    "test_loader = DataLoader(test_data, batch_size=32, shuffle=False)"
   ]
  },
  {
   "cell_type": "code",
   "execution_count": null,
   "id": "8dfa8c67-efe1-4430-9b42-aae414c5de67",
   "metadata": {},
   "outputs": [],
   "source": [
    "# -------------------- Part 3: Building a Simple Neural Network --------------------\n",
    "\n",
    "# Part 3.2: Define a Simple Neural Network\n",
    "class SimpleNN(nn.Module):\n",
    "    def __init__(self):\n",
    "        super(SimpleNN, self).__init__()\n",
    "        # First hidden layer (input: 28x28=784, output: 128 neurons)\n",
    "        self.fc1 = nn.Linear(28*28, 128)\n",
    "        # Second hidden layer (input: 128, output: 64 neurons)\n",
    "        self.fc2 = nn.Linear(128, 64)\n",
    "        # Output layer (input: 64, output: 10 classes for digits 0-9)\n",
    "        self.fc3 = nn.Linear(64, 10)\n",
    "    \n",
    "    def forward(self, x):\n",
    "        # Flatten the input image to a vector\n",
    "        x = x.view(-1, 28*28)\n",
    "        # Apply ReLU activation function to the first and second layers\n",
    "        x = torch.relu(self.fc1(x))\n",
    "        x = torch.relu(self.fc2(x))\n",
    "        # Output logits (raw scores)\n",
    "        x = self.fc3(x)\n",
    "        return x"
   ]
  },
  {
   "cell_type": "code",
   "execution_count": null,
   "id": "14e473bc-d067-447e-b74e-155010cd1ef6",
   "metadata": {},
   "outputs": [],
   "source": [
    "# Instantiate the model\n",
    "model = SimpleNN()\n",
    "print(model)"
   ]
  },
  {
   "cell_type": "code",
   "execution_count": null,
   "id": "731b54b7-9a0b-4eaf-a156-0e2b66084bb9",
   "metadata": {},
   "outputs": [],
   "source": [
    "# Part 3.4: Define the loss function and optimizer\n",
    "criterion = nn.CrossEntropyLoss()  # Cross-Entropy Loss for classification\n",
    "optimizer = optim.SGD(model.parameters(), lr=0.01)  # Stochastic Gradient Descent (SGD)"
   ]
  },
  {
   "cell_type": "code",
   "execution_count": null,
   "id": "09a1aa9e-67b1-4a46-9153-bdac25ede372",
   "metadata": {},
   "outputs": [],
   "source": [
    "# -------------------- Part 4: Training the Network --------------------\n",
    "\n",
    "# Part 4.2: Train the Neural Network\n",
    "epochs = 5  # Number of epochs\n",
    "for epoch in range(epochs):\n",
    "    running_loss = 0.0\n",
    "    correct = 0\n",
    "    total = 0\n",
    "    \n",
    "    for images, labels in train_loader:\n",
    "        # Flatten the images to match the input size of the model\n",
    "        images = images.view(images.size(0), -1)\n",
    "        optimizer.zero_grad()  # Zero out gradients from the previous step\n",
    "\n",
    "        # Forward pass: Get model outputs\n",
    "        # calls the forward method\n",
    "        outputs = model(images)\n",
    "        loss = criterion(outputs, labels)  # Calculate the loss\n",
    "\n",
    "        # Backward pass: Compute gradients\n",
    "        loss.backward()\n",
    "\n",
    "        # Optimize: Update weights using gradients\n",
    "        optimizer.step()\n",
    "\n",
    "        # Track running loss and accuracy\n",
    "        running_loss += loss.item()\n",
    "        _, predicted = torch.max(outputs, 1)  # Get the predicted class with max score\n",
    "        total += labels.size(0)\n",
    "        correct += (predicted == labels).sum().item()\n",
    "\n",
    "    # Print loss and accuracy for this epoch\n",
    "    accuracy = 100 * correct / total\n",
    "    print(f'Epoch {epoch+1}, Loss: {running_loss/len(train_loader)}, Accuracy: {accuracy:.2f}%')"
   ]
  },
  {
   "cell_type": "code",
   "execution_count": null,
   "id": "d0991e6e-721b-44a7-982a-16deaedee828",
   "metadata": {},
   "outputs": [],
   "source": [
    "# Part 4.5: Save the trained model\n",
    "torch.save(model.state_dict(), 'mnist_model.pth')\n",
    "print(\"Model saved successfully!\")"
   ]
  },
  {
   "cell_type": "code",
   "execution_count": null,
   "id": "f27e4e25-5034-4883-867f-0fa689064332",
   "metadata": {},
   "outputs": [],
   "source": [
    "# -------------------- Part 5: Evaluating the Model --------------------\n",
    "\n",
    "# Part 5.2: Evaluate the model on the test data\n",
    "model.eval()  # Set model to evaluation mode\n",
    "correct = 0\n",
    "total = 0"
   ]
  },
  {
   "cell_type": "code",
   "execution_count": null,
   "id": "ace89445-4df4-4204-b40c-1a6d1f0c8b14",
   "metadata": {},
   "outputs": [],
   "source": [
    "# Disable gradient calculation for faster evaluation\n",
    "with torch.no_grad():\n",
    "    for images, labels in test_loader:\n",
    "        # Flatten the images\n",
    "        images = images.view(images.size(0), -1)\n",
    "        # Get model predictions\n",
    "        outputs = model(images)\n",
    "        _, predicted = torch.max(outputs, 1)\n",
    "        total += labels.size(0)\n",
    "        correct += (predicted == labels).sum().item()"
   ]
  },
  {
   "cell_type": "code",
   "execution_count": null,
   "id": "91510e52-9d9e-499b-9f70-5e35e4d206b5",
   "metadata": {},
   "outputs": [],
   "source": [
    "# Calculate test accuracy\n",
    "test_accuracy = 100 * correct / total\n",
    "print(f'Accuracy on the test set: {test_accuracy:.2f}%')"
   ]
  },
  {
   "cell_type": "code",
   "execution_count": null,
   "id": "2c51f4ee-28c1-4372-a0f5-63ae4a5c7214",
   "metadata": {},
   "outputs": [],
   "source": [
    "# Part 5.3: Visualize some predictions\n",
    "images, labels = next(iter(test_loader))  # Get a batch of test images\n",
    "images_flattened = images.view(images.size(0), -1)  # Flatten the images\n",
    "outputs = model(images_flattened)\n",
    "_, predicted = torch.max(outputs, 1)"
   ]
  },
  {
   "cell_type": "code",
   "execution_count": null,
   "id": "d25c0ba8-51c8-46ba-a807-097a82bc5206",
   "metadata": {},
   "outputs": [],
   "source": [
    "# Display first 5 images with predicted and true labels\n",
    "fig, axes = plt.subplots(1, 5, figsize=(10, 2))\n",
    "for i in range(5):\n",
    "    axes[i].imshow(images[i].squeeze(), cmap=\"gray\")\n",
    "    axes[i].set_title(f'Pred: {predicted[i]}, Label: {labels[i]}')\n",
    "    axes[i].axis('off')\n",
    "plt.show()"
   ]
  },
  {
   "cell_type": "code",
   "execution_count": null,
   "id": "0584e372-54ba-45da-a367-f40cc38fc1c0",
   "metadata": {},
   "outputs": [],
   "source": [
    "# Part 5.4: Identify and display misclassified images\n",
    "misclassified_images = []\n",
    "misclassified_labels = []\n",
    "misclassified_predictions = []\n",
    "\n",
    "with torch.no_grad():\n",
    "    for images, labels in test_loader:\n",
    "        images_flattened = images.view(images.size(0), -1)\n",
    "        outputs = model(images_flattened)\n",
    "        _, predicted = torch.max(outputs, 1)\n",
    "        \n",
    "        # Collect misclassified images\n",
    "        for i in range(len(labels)):\n",
    "            if predicted[i] != labels[i]:\n",
    "                misclassified_images.append(images[i])\n",
    "                misclassified_labels.append(labels[i])\n",
    "                misclassified_predictions.append(predicted[i])"
   ]
  },
  {
   "cell_type": "code",
   "execution_count": null,
   "id": "1e433021-cd92-484d-93c5-633b5fb76bdf",
   "metadata": {},
   "outputs": [],
   "source": [
    "# Display first 5 misclassified images\n",
    "fig, axes = plt.subplots(1, 5, figsize=(10, 2))\n",
    "for i in range(5):\n",
    "    axes[i].imshow(misclassified_images[i].squeeze(), cmap=\"gray\")\n",
    "    axes[i].set_title(f'Pred: {misclassified_predictions[i]}, Label: {misclassified_labels[i]}')\n",
    "    axes[i].axis('off')\n",
    "plt.show()"
   ]
  },
  {
   "cell_type": "code",
   "execution_count": null,
   "id": "65810e25-7483-4f51-8961-cbdf9d733afa",
   "metadata": {},
   "outputs": [],
   "source": [
    "# (Optional) Load the saved model for future use\n",
    "model = SimpleNN()  # Reinitialize the model\n",
    "model.load_state_dict(torch.load('mnist_model.pth'))  # Load saved parameters\n",
    "model.eval()  # Set to evaluation mode\n",
    "print(\"Model reloaded successfully!\")"
   ]
  },
  {
   "cell_type": "code",
   "execution_count": null,
   "id": "e51b689e-53cd-486f-b106-bfbb924017d9",
   "metadata": {},
   "outputs": [],
   "source": []
  },
  {
   "cell_type": "code",
   "execution_count": null,
   "id": "a26ba030-895a-43b4-b118-3db7c84795c5",
   "metadata": {},
   "outputs": [],
   "source": []
  }
 ],
 "metadata": {
  "kernelspec": {
   "display_name": "Python 3 (ipykernel)",
   "language": "python",
   "name": "python3"
  },
  "language_info": {
   "codemirror_mode": {
    "name": "ipython",
    "version": 3
   },
   "file_extension": ".py",
   "mimetype": "text/x-python",
   "name": "python",
   "nbconvert_exporter": "python",
   "pygments_lexer": "ipython3",
   "version": "3.11.5"
  }
 },
 "nbformat": 4,
 "nbformat_minor": 5
}
